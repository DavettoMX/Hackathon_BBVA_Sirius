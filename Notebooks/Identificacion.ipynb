{
 "cells": [
  {
   "cell_type": "markdown",
   "metadata": {},
   "source": [
    "## ALGORITMO DE IDENTIFICACIÓN DE USUARIOS DE 65 AÑOS O MÁS QUE NO TIENEN MOVIMIENTOS EN SU CUENTA\n",
    "Este algoritmo identifica a los usuarios de 65 años o más que no tienen movimientos en su cuenta. Se considera que no tiene movimientos si no ha realizado ninguna transacción.\n",
    "\n",
    "Esto nos permite identificar a los usuarios que puede que o no tengan acceso al aplicativo móvil\n",
    "o que solo hayan realizado una transacción al mes."
   ]
  },
  {
   "cell_type": "code",
   "execution_count": 1,
   "metadata": {},
   "outputs": [],
   "source": [
    "import pandas as pd\n",
    "import numpy as np\n",
    "import matplotlib.pyplot as plt\n",
    "\n",
    "import obtencion_data as od"
   ]
  },
  {
   "cell_type": "code",
   "execution_count": 14,
   "metadata": {},
   "outputs": [],
   "source": [
    "data = od.BaseDatos()\n",
    "movimientos = data.obtener_movimientos()"
   ]
  },
  {
   "cell_type": "code",
   "execution_count": 19,
   "metadata": {},
   "outputs": [],
   "source": [
    "def obtener_movimientos():\n",
    "    publico_objetivo = data.obtener_publico_objetivo()\n",
    "\n",
    "    # Si el publico objetivo no tiene movimientos bancarios se considera\n",
    "    # como un usuario objetivo para identificar\n",
    "\n",
    "    movimientos_objetivo = data.movimientos_objetivo()\n",
    "\n",
    "    objetivos = []\n",
    "    no_objetivos = []\n",
    "\n",
    "    for index, movimiento in enumerate(movimientos_objetivo):\n",
    "        for usuario in movimiento:\n",
    "            if usuario[0] not in no_objetivos:\n",
    "                no_objetivos.append(usuario[0])\n",
    "\n",
    "    for index, usuarios in enumerate(publico_objetivo):\n",
    "        if usuarios[0] not in no_objetivos:\n",
    "            objetivos.append(usuarios)\n",
    "\n",
    "    # create a dataframe\n",
    "    df = pd.DataFrame(objetivos, columns=['ID_CLIENTE', 'EDAD', 'ESTADO', 'CODIGO POSTAL', 'SEXO'])\n",
    "\n",
    "    return df"
   ]
  },
  {
   "cell_type": "code",
   "execution_count": 20,
   "metadata": {},
   "outputs": [
    {
     "data": {
      "text/html": [
       "<div>\n",
       "<style scoped>\n",
       "    .dataframe tbody tr th:only-of-type {\n",
       "        vertical-align: middle;\n",
       "    }\n",
       "\n",
       "    .dataframe tbody tr th {\n",
       "        vertical-align: top;\n",
       "    }\n",
       "\n",
       "    .dataframe thead th {\n",
       "        text-align: right;\n",
       "    }\n",
       "</style>\n",
       "<table border=\"1\" class=\"dataframe\">\n",
       "  <thead>\n",
       "    <tr style=\"text-align: right;\">\n",
       "      <th></th>\n",
       "      <th>ID_CLIENTE</th>\n",
       "      <th>EDAD</th>\n",
       "      <th>ESTADO</th>\n",
       "      <th>CODIGO POSTAL</th>\n",
       "      <th>SEXO</th>\n",
       "    </tr>\n",
       "  </thead>\n",
       "  <tbody>\n",
       "    <tr>\n",
       "      <th>0</th>\n",
       "      <td>8FRLE6Y9G</td>\n",
       "      <td>75.0</td>\n",
       "      <td>DF</td>\n",
       "      <td>55463</td>\n",
       "      <td>M</td>\n",
       "    </tr>\n",
       "  </tbody>\n",
       "</table>\n",
       "</div>"
      ],
      "text/plain": [
       "  ID_CLIENTE  EDAD ESTADO CODIGO POSTAL SEXO\n",
       "0  8FRLE6Y9G  75.0     DF         55463    M"
      ]
     },
     "execution_count": 20,
     "metadata": {},
     "output_type": "execute_result"
    }
   ],
   "source": [
    "obtener_movimientos()"
   ]
  }
 ],
 "metadata": {
  "kernelspec": {
   "display_name": "Python 3.10.4 ('venv': venv)",
   "language": "python",
   "name": "python3"
  },
  "language_info": {
   "codemirror_mode": {
    "name": "ipython",
    "version": 3
   },
   "file_extension": ".py",
   "mimetype": "text/x-python",
   "name": "python",
   "nbconvert_exporter": "python",
   "pygments_lexer": "ipython3",
   "version": "3.10.4"
  },
  "orig_nbformat": 4,
  "vscode": {
   "interpreter": {
    "hash": "fec6040f80378f4225dc9a6812d4faa852822dbe3923cdcea9b1d5ed88486b16"
   }
  }
 },
 "nbformat": 4,
 "nbformat_minor": 2
}
