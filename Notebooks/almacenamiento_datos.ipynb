{
 "cells": [
  {
   "cell_type": "markdown",
   "metadata": {},
   "source": [
    "### TRASLADAR DATA DE TXT A LA BASE DE DATOS DE MariaDB"
   ]
  },
  {
   "cell_type": "code",
   "execution_count": 1,
   "metadata": {},
   "outputs": [],
   "source": [
    "import pandas as pd"
   ]
  },
  {
   "cell_type": "code",
   "execution_count": 3,
   "metadata": {},
   "outputs": [],
   "source": [
    "# open txt file\n",
    "with open('data/Catalogo_Giros.txt', 'r') as catalogo_giros:\n",
    "    catalogo_giros = catalogo_giros.read()\n",
    "\n",
    "# split txt file by line\n",
    "catalogo_giros = catalogo_giros.split('\\n')\n",
    "catalogo_giros = [giro.split('\\t') for giro in catalogo_giros]\n",
    "\n",
    "# create dataframe\n",
    "df = pd.DataFrame(catalogo_giros[1:], columns=catalogo_giros[0])\n",
    "\n",
    "# convert to csv\n",
    "df.to_csv('data/Catalogo_Giros.csv', index=False)"
   ]
  },
  {
   "cell_type": "code",
   "execution_count": null,
   "metadata": {},
   "outputs": [],
   "source": [
    "# Open csv file\n",
    "df = pd.read_csv('data/Catalogo_Giros.csv')\n",
    "\n",
    "cursor = mydb.cursor()\n",
    "\n",
    "for index, row in df.iterrows():\n",
    "    cursor.execute('''\n",
    "        INSERT INTO catalogo_giros (NU_AFILIACION, CD_GIRO, NB_GIRO, NB_SUBGIRO)\n",
    "        VALUES (%s, %s, %s, %s)\n",
    "    ''', tuple(row))\n",
    "    mydb.commit()\n",
    "\n",
    "cursor.close()\n"
   ]
  },
  {
   "cell_type": "code",
   "execution_count": 35,
   "metadata": {},
   "outputs": [],
   "source": [
    "with open('data/Clientes_Descriptivo.txt') as descripcion_clientes:\n",
    "    descripcion_clientes = descripcion_clientes.read()\n",
    "\n",
    "descripcion_clientes = descripcion_clientes.split('\\n')\n",
    "descripcion_clientes = [cliente.split('\\t') for cliente in descripcion_clientes]\n",
    "\n",
    "df = pd.DataFrame(descripcion_clientes[1:], columns=descripcion_clientes[0])\n",
    "\n",
    "df.to_csv('data/Clientes_Descriptivo.csv', index=False)"
   ]
  },
  {
   "cell_type": "code",
   "execution_count": null,
   "metadata": {},
   "outputs": [],
   "source": [
    "df = pd.read_csv('data/Clientes_Descriptivo.csv')\n",
    "\n",
    "cursor = mydb.cursor()\n",
    "\n",
    "for index, row in df.iterrows():\n",
    "    cursor.execute('''\n",
    "        INSERT INTO descripcion_cliente (NU_CTE_COD, EDAD, CD_ESTADO, CD_POSTAL, CD_SEXO)\n",
    "        VALUES (%s, %s, %s, %s, %s)\n",
    "    ''', tuple(row))\n",
    "    mydb.commit()\n",
    "\n",
    "cursor.close()"
   ]
  },
  {
   "cell_type": "code",
   "execution_count": 7,
   "metadata": {},
   "outputs": [],
   "source": [
    "with open('data/Transacciones_Clientes.txt', 'r') as transacciones_clientes:\n",
    "    transacciones_clientes = transacciones_clientes.read()\n",
    "\n",
    "transacciones_clientes = transacciones_clientes.split('\\n')\n",
    "transacciones_clientes = [transaccion.split('\\t') for transaccion in transacciones_clientes]\n",
    "\n",
    "df = pd.DataFrame(transacciones_clientes[1:], columns=transacciones_clientes[0])\n",
    "\n",
    "df.to_csv('data/Transacciones_Clientes.csv', index=False)"
   ]
  },
  {
   "cell_type": "code",
   "execution_count": null,
   "metadata": {},
   "outputs": [],
   "source": [
    "df = pd.read_csv('data/Transacciones_Clientes.csv')\n",
    "\n",
    "cursor = mydb.cursor()\n",
    "\n",
    "for index, row in df.iterrows():\n",
    "    cursor.execute('''\n",
    "        INSERT INTO transacciones_cliente (NU_CTE_COD, FH_CORTE, FH_OPERACION, NU_AFILIACION, TIPO_TARJETA, IM_TRANSACCION)\n",
    "        VALUES (%s, %s, %s, %s, %s, %s)\n",
    "    ''', tuple(row))\n",
    "\n",
    "    mydb.commit()\n",
    "\n",
    "cursor.close()"
   ]
  }
 ],
 "metadata": {
  "kernelspec": {
   "display_name": "Python 3.10.4 64-bit",
   "language": "python",
   "name": "python3"
  },
  "language_info": {
   "codemirror_mode": {
    "name": "ipython",
    "version": 3
   },
   "file_extension": ".py",
   "mimetype": "text/x-python",
   "name": "python",
   "nbconvert_exporter": "python",
   "pygments_lexer": "ipython3",
   "version": "3.10.4"
  },
  "orig_nbformat": 4,
  "vscode": {
   "interpreter": {
    "hash": "f5ff168696553f3e2cb115c273c46eeb315c32b0d0536992c4bad2740a7f9469"
   }
  }
 },
 "nbformat": 4,
 "nbformat_minor": 2
}
